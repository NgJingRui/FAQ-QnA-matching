{
 "cells": [
  {
   "cell_type": "code",
   "execution_count": 2,
   "metadata": {},
   "outputs": [],
   "source": [
    "import pandas as pd\n",
    "import pickle\n"
   ]
  },
  {
   "cell_type": "code",
   "execution_count": 5,
   "metadata": {},
   "outputs": [],
   "source": [
    "df = pd.read_csv(\"./msf_baby_bonus.csv\", header = None)"
   ]
  },
  {
   "cell_type": "code",
   "execution_count": 23,
   "metadata": {},
   "outputs": [],
   "source": [
    "def preprocess(sent):\n",
    "    s = sent.replace(\"\\n\\r\",\"\").replace(\"\\n\",\"\").replace(\"\\r\",\"\").replace(\"\\r\\n\",\"\")\n",
    "    return s"
   ]
  },
  {
   "cell_type": "code",
   "execution_count": 24,
   "metadata": {},
   "outputs": [],
   "source": [
    "answer_to_label = {}\n",
    "question_to_label = {}\n",
    "label = 0\n",
    "for q,a in zip(df[1],df[2]):\n",
    "    q = preprocess(q)\n",
    "    a = preprocess(a)\n",
    "    if(a in answer_to_label):\n",
    "        question_to_label[q] = answer_to_label[a]\n",
    "    else:\n",
    "        question_to_label[q] = label\n",
    "        answer_to_label[a] = label\n",
    "        label += 1\n",
    "    \n"
   ]
  },
  {
   "cell_type": "code",
   "execution_count": 36,
   "metadata": {},
   "outputs": [
    {
     "name": "stdout",
     "output_type": "stream",
     "text": [
      "40\n",
      "You can view the transactions made in your Child Development Account or CDA in the monthly statement sent by your CDA bank, or through Internet Banking. You may also go to 'View Statement Summary' on the Baby Bonus Online, log in using your SingPass, and select 'View Statement ' to view the CDA payment details and “Remaining Cap Amount”.\n"
     ]
    }
   ],
   "source": [
    "for a,l in answer_to_label.items():\n",
    "    if(l == 199):\n",
    "        print(a)\n",
    "    if(\"To join the Baby Bonus Scheme, please start by\" in a):\n",
    "        print(l)\n",
    "    "
   ]
  },
  {
   "cell_type": "code",
   "execution_count": 37,
   "metadata": {
    "scrolled": true
   },
   "outputs": [
    {
     "name": "stdout",
     "output_type": "stream",
     "text": [
      "How do I join the Baby Bonus Scheme?\n"
     ]
    }
   ],
   "source": [
    "for q,l in question_to_label.items():\n",
    "    if(l == 40):\n",
    "        print(q)"
   ]
  },
  {
   "cell_type": "code",
   "execution_count": 29,
   "metadata": {},
   "outputs": [],
   "source": [
    "def save_dict(obj, path ):\n",
    "    with open(path, 'wb') as f:\n",
    "        pickle.dump(obj, f, pickle.HIGHEST_PROTOCOL)\n",
    "\n",
    "def load_dict(path):\n",
    "    with open(path, 'rb') as f:\n",
    "        return pickle.load(f)\n"
   ]
  },
  {
   "cell_type": "code",
   "execution_count": 30,
   "metadata": {},
   "outputs": [],
   "source": [
    "data = {\"question_to_label\" : question_to_label , \"answer_to_label\" : answer_to_label}"
   ]
  },
  {
   "cell_type": "code",
   "execution_count": 31,
   "metadata": {},
   "outputs": [],
   "source": [
    "save_dict(data,\"./Orignal_FAQs/baby_bonus_orignal.pkl\")"
   ]
  },
  {
   "cell_type": "code",
   "execution_count": 32,
   "metadata": {},
   "outputs": [],
   "source": [
    "orignal = load_dict(\"C:\\\\Users\\\\rjkin\\\\Desktop\\\\NTU_thesis\\\\cluster-model\\\\Orignal_FAQs\\\\baby_bonus_orignal.pkl\")"
   ]
  },
  {
   "cell_type": "code",
   "execution_count": null,
   "metadata": {},
   "outputs": [],
   "source": []
  }
 ],
 "metadata": {
  "kernelspec": {
   "display_name": "Python 3",
   "language": "python",
   "name": "python3"
  },
  "language_info": {
   "codemirror_mode": {
    "name": "ipython",
    "version": 3
   },
   "file_extension": ".py",
   "mimetype": "text/x-python",
   "name": "python",
   "nbconvert_exporter": "python",
   "pygments_lexer": "ipython3",
   "version": "3.6.6"
  }
 },
 "nbformat": 4,
 "nbformat_minor": 4
}
